{
 "cells": [
  {
   "cell_type": "code",
   "execution_count": 1,
   "id": "1e565bb5",
   "metadata": {},
   "outputs": [],
   "source": [
    "import pandas as pd\n",
    "import numpy as np\n",
    "import matplotlib.pyplot as plt\n",
    "import preprocess_kgptalkie as ps"
   ]
  },
  {
   "cell_type": "code",
   "execution_count": 2,
   "id": "401905ab",
   "metadata": {},
   "outputs": [],
   "source": [
    "df = pd.read_csv('D:\\Downloads\\IMDB Dataset.csv')"
   ]
  },
  {
   "cell_type": "code",
   "execution_count": 3,
   "id": "06bcc194",
   "metadata": {},
   "outputs": [
    {
     "data": {
      "text/html": [
       "<div>\n",
       "<style scoped>\n",
       "    .dataframe tbody tr th:only-of-type {\n",
       "        vertical-align: middle;\n",
       "    }\n",
       "\n",
       "    .dataframe tbody tr th {\n",
       "        vertical-align: top;\n",
       "    }\n",
       "\n",
       "    .dataframe thead th {\n",
       "        text-align: right;\n",
       "    }\n",
       "</style>\n",
       "<table border=\"1\" class=\"dataframe\">\n",
       "  <thead>\n",
       "    <tr style=\"text-align: right;\">\n",
       "      <th></th>\n",
       "      <th>review</th>\n",
       "      <th>sentiment</th>\n",
       "    </tr>\n",
       "  </thead>\n",
       "  <tbody>\n",
       "    <tr>\n",
       "      <th>0</th>\n",
       "      <td>One of the other reviewers has mentioned that ...</td>\n",
       "      <td>positive</td>\n",
       "    </tr>\n",
       "    <tr>\n",
       "      <th>1</th>\n",
       "      <td>A wonderful little production. &lt;br /&gt;&lt;br /&gt;The...</td>\n",
       "      <td>positive</td>\n",
       "    </tr>\n",
       "    <tr>\n",
       "      <th>2</th>\n",
       "      <td>I thought this was a wonderful way to spend ti...</td>\n",
       "      <td>positive</td>\n",
       "    </tr>\n",
       "    <tr>\n",
       "      <th>3</th>\n",
       "      <td>Basically there's a family where a little boy ...</td>\n",
       "      <td>negative</td>\n",
       "    </tr>\n",
       "    <tr>\n",
       "      <th>4</th>\n",
       "      <td>Petter Mattei's \"Love in the Time of Money\" is...</td>\n",
       "      <td>positive</td>\n",
       "    </tr>\n",
       "    <tr>\n",
       "      <th>...</th>\n",
       "      <td>...</td>\n",
       "      <td>...</td>\n",
       "    </tr>\n",
       "    <tr>\n",
       "      <th>49995</th>\n",
       "      <td>I thought this movie did a down right good job...</td>\n",
       "      <td>positive</td>\n",
       "    </tr>\n",
       "    <tr>\n",
       "      <th>49996</th>\n",
       "      <td>Bad plot, bad dialogue, bad acting, idiotic di...</td>\n",
       "      <td>negative</td>\n",
       "    </tr>\n",
       "    <tr>\n",
       "      <th>49997</th>\n",
       "      <td>I am a Catholic taught in parochial elementary...</td>\n",
       "      <td>negative</td>\n",
       "    </tr>\n",
       "    <tr>\n",
       "      <th>49998</th>\n",
       "      <td>I'm going to have to disagree with the previou...</td>\n",
       "      <td>negative</td>\n",
       "    </tr>\n",
       "    <tr>\n",
       "      <th>49999</th>\n",
       "      <td>No one expects the Star Trek movies to be high...</td>\n",
       "      <td>negative</td>\n",
       "    </tr>\n",
       "  </tbody>\n",
       "</table>\n",
       "<p>50000 rows × 2 columns</p>\n",
       "</div>"
      ],
      "text/plain": [
       "                                                  review sentiment\n",
       "0      One of the other reviewers has mentioned that ...  positive\n",
       "1      A wonderful little production. <br /><br />The...  positive\n",
       "2      I thought this was a wonderful way to spend ti...  positive\n",
       "3      Basically there's a family where a little boy ...  negative\n",
       "4      Petter Mattei's \"Love in the Time of Money\" is...  positive\n",
       "...                                                  ...       ...\n",
       "49995  I thought this movie did a down right good job...  positive\n",
       "49996  Bad plot, bad dialogue, bad acting, idiotic di...  negative\n",
       "49997  I am a Catholic taught in parochial elementary...  negative\n",
       "49998  I'm going to have to disagree with the previou...  negative\n",
       "49999  No one expects the Star Trek movies to be high...  negative\n",
       "\n",
       "[50000 rows x 2 columns]"
      ]
     },
     "execution_count": 3,
     "metadata": {},
     "output_type": "execute_result"
    }
   ],
   "source": [
    "df"
   ]
  },
  {
   "cell_type": "code",
   "execution_count": 4,
   "id": "7df3748b",
   "metadata": {},
   "outputs": [
    {
     "data": {
      "text/plain": [
       "(50000, 2)"
      ]
     },
     "execution_count": 4,
     "metadata": {},
     "output_type": "execute_result"
    }
   ],
   "source": [
    "df.shape"
   ]
  },
  {
   "cell_type": "code",
   "execution_count": 5,
   "id": "fcd4ad63",
   "metadata": {},
   "outputs": [
    {
     "data": {
      "text/plain": [
       "Index(['review', 'sentiment'], dtype='object')"
      ]
     },
     "execution_count": 5,
     "metadata": {},
     "output_type": "execute_result"
    }
   ],
   "source": [
    "df.columns"
   ]
  },
  {
   "cell_type": "code",
   "execution_count": 6,
   "id": "9b00c128",
   "metadata": {},
   "outputs": [
    {
     "data": {
      "text/html": [
       "<div>\n",
       "<style scoped>\n",
       "    .dataframe tbody tr th:only-of-type {\n",
       "        vertical-align: middle;\n",
       "    }\n",
       "\n",
       "    .dataframe tbody tr th {\n",
       "        vertical-align: top;\n",
       "    }\n",
       "\n",
       "    .dataframe thead th {\n",
       "        text-align: right;\n",
       "    }\n",
       "</style>\n",
       "<table border=\"1\" class=\"dataframe\">\n",
       "  <thead>\n",
       "    <tr style=\"text-align: right;\">\n",
       "      <th></th>\n",
       "      <th>review</th>\n",
       "      <th>sentiment</th>\n",
       "    </tr>\n",
       "  </thead>\n",
       "  <tbody>\n",
       "    <tr>\n",
       "      <th>0</th>\n",
       "      <td>One of the other reviewers has mentioned that ...</td>\n",
       "      <td>positive</td>\n",
       "    </tr>\n",
       "    <tr>\n",
       "      <th>1</th>\n",
       "      <td>A wonderful little production. &lt;br /&gt;&lt;br /&gt;The...</td>\n",
       "      <td>positive</td>\n",
       "    </tr>\n",
       "    <tr>\n",
       "      <th>2</th>\n",
       "      <td>I thought this was a wonderful way to spend ti...</td>\n",
       "      <td>positive</td>\n",
       "    </tr>\n",
       "    <tr>\n",
       "      <th>3</th>\n",
       "      <td>Basically there's a family where a little boy ...</td>\n",
       "      <td>negative</td>\n",
       "    </tr>\n",
       "    <tr>\n",
       "      <th>4</th>\n",
       "      <td>Petter Mattei's \"Love in the Time of Money\" is...</td>\n",
       "      <td>positive</td>\n",
       "    </tr>\n",
       "  </tbody>\n",
       "</table>\n",
       "</div>"
      ],
      "text/plain": [
       "                                              review sentiment\n",
       "0  One of the other reviewers has mentioned that ...  positive\n",
       "1  A wonderful little production. <br /><br />The...  positive\n",
       "2  I thought this was a wonderful way to spend ti...  positive\n",
       "3  Basically there's a family where a little boy ...  negative\n",
       "4  Petter Mattei's \"Love in the Time of Money\" is...  positive"
      ]
     },
     "execution_count": 6,
     "metadata": {},
     "output_type": "execute_result"
    }
   ],
   "source": [
    "df.head()"
   ]
  },
  {
   "cell_type": "code",
   "execution_count": 7,
   "id": "60fde39b",
   "metadata": {},
   "outputs": [
    {
     "data": {
      "text/plain": [
       "'Petter Mattei\\'s \"Love in the Time of Money\" is a visually stunning film to watch. Mr. Mattei offers us a vivid portrait about human relations. This is a movie that seems to be telling us what money, power and success do to people in the different situations we encounter. <br /><br />This being a variation on the Arthur Schnitzler\\'s play about the same theme, the director transfers the action to the present time New York where all these different characters meet and connect. Each one is connected in one way, or another to the next person, but no one seems to know the previous point of contact. Stylishly, the film has a sophisticated luxurious look. We are taken to see how these people live and the world they live in their own habitat.<br /><br />The only thing one gets out of all these souls in the picture is the different stages of loneliness each one inhabits. A big city is not exactly the best place in which human relations find sincere fulfillment, as one discerns is the case with most of the people we encounter.<br /><br />The acting is good under Mr. Mattei\\'s direction. Steve Buscemi, Rosario Dawson, Carol Kane, Michael Imperioli, Adrian Grenier, and the rest of the talented cast, make these characters come alive.<br /><br />We wish Mr. Mattei good luck and await anxiously for his next work.'"
      ]
     },
     "execution_count": 7,
     "metadata": {},
     "output_type": "execute_result"
    }
   ],
   "source": [
    "df['review'][4]"
   ]
  },
  {
   "cell_type": "code",
   "execution_count": 8,
   "id": "9539fed5",
   "metadata": {},
   "outputs": [
    {
     "data": {
      "text/plain": [
       "0        307\n",
       "1        162\n",
       "2        166\n",
       "3        138\n",
       "4        230\n",
       "        ... \n",
       "49995    194\n",
       "49996    112\n",
       "49997    230\n",
       "49998    212\n",
       "49999    129\n",
       "Name: review, Length: 50000, dtype: int64"
      ]
     },
     "execution_count": 8,
     "metadata": {},
     "output_type": "execute_result"
    }
   ],
   "source": [
    "df['review'].apply(lambda x: ps.get_wordcounts(x))"
   ]
  },
  {
   "cell_type": "code",
   "execution_count": 9,
   "id": "ac155dfe",
   "metadata": {},
   "outputs": [],
   "source": [
    "import spacy\n",
    "nlp = spacy.load(\"en_core_web_sm\")"
   ]
  },
  {
   "cell_type": "code",
   "execution_count": 10,
   "id": "9e4c034c",
   "metadata": {},
   "outputs": [
    {
     "name": "stderr",
     "output_type": "stream",
     "text": [
      "[nltk_data] Downloading package punkt to\n",
      "[nltk_data]     C:\\Users\\malek\\AppData\\Roaming\\nltk_data...\n",
      "[nltk_data]   Package punkt is already up-to-date!\n",
      "[nltk_data] Downloading package stopwords to\n",
      "[nltk_data]     C:\\Users\\malek\\AppData\\Roaming\\nltk_data...\n",
      "[nltk_data]   Package stopwords is already up-to-date!\n"
     ]
    },
    {
     "data": {
      "text/plain": [
       "True"
      ]
     },
     "execution_count": 10,
     "metadata": {},
     "output_type": "execute_result"
    }
   ],
   "source": [
    "import nltk\n",
    "from nltk.stem import PorterStemmer\n",
    "from nltk.corpus import stopwords\n",
    "\n",
    "# Download NLTK resources (you only need to do this once)\n",
    "nltk.download('punkt')\n",
    "nltk.download('stopwords')"
   ]
  },
  {
   "cell_type": "markdown",
   "id": "867d6ba2",
   "metadata": {},
   "source": [
    "## Building Functions"
   ]
  },
  {
   "cell_type": "code",
   "execution_count": 11,
   "id": "e8049a06",
   "metadata": {},
   "outputs": [],
   "source": [
    "import contractions\n",
    "def processing_func(text):\n",
    "    res=contractions.fix(text)\n",
    "    return res\n",
    "\n",
    "import string\n",
    "def remove_punctuation(text):\n",
    "    regular_punct = list(string.punctuation)\n",
    "    for punc in regular_punct:\n",
    "        if punc in text:\n",
    "            text = text.replace(punc, ' ')\n",
    "    return text.strip()\n",
    "\n",
    "def stem_text(text):\n",
    "    # Initialize the Porter Stemmer\n",
    "    stemmer = PorterStemmer()\n",
    "    \n",
    "    # Tokenize the text (split it into words)\n",
    "    words = nltk.word_tokenize(text)\n",
    "    \n",
    "    # Apply stemming to each word and remove stopwords\n",
    "    stemmed_words = [stemmer.stem(word) for word in words if word.lower() not in stopwords.words('english')]\n",
    "    \n",
    "    # Join the stemmed words back into a sentence\n",
    "    stemmed_text = ' '.join(stemmed_words)\n",
    "    \n",
    "    return stemmed_text\n",
    "\n",
    "import itertools\n",
    "def remove_duplicates_car(tweet):\n",
    "    new_tweet = ''.join(ch for ch, _ in itertools.groupby(tweet))\n",
    "    return new_tweet\n"
   ]
  },
  {
   "cell_type": "markdown",
   "id": "a3e3af98",
   "metadata": {},
   "source": [
    "# Preprocessing"
   ]
  },
  {
   "cell_type": "code",
   "execution_count": 12,
   "id": "e15795c9",
   "metadata": {
    "scrolled": true
   },
   "outputs": [
    {
     "name": "stderr",
     "output_type": "stream",
     "text": [
      "C:\\Users\\malek\\AppData\\Local\\Programs\\Python\\Python310\\lib\\site-packages\\preprocess_kgptalkie\\utils.py:97: MarkupResemblesLocatorWarning: The input looks more like a filename than markup. You may want to open this file and pass the filehandle into Beautiful Soup.\n",
      "  return BeautifulSoup(x, 'lxml').get_text().strip()\n"
     ]
    }
   ],
   "source": [
    "    df['word_counts']=df['review'].apply(lambda x: ps.get_wordcounts(x))\n",
    "    df['char_counts']=df['review'].apply(lambda x: ps.get_charcounts(x))\n",
    "    df['avg_wordlength']=df['review'].apply(lambda x: ps.get_avg_wordlength(x))\n",
    "    df['stopwords_counts']=df['review'].apply(lambda x: ps.get_stopwords_counts(x))\n",
    "    \n",
    "    df['review']=df['review'].apply(lambda x: ps.remove_stopwords(x))\n",
    "    df['review']=df['review'].apply(lambda x: ps.remove_html_tags(x)) # na7i les balises html\n",
    "    df['review']=df['review'].str.lower()\n",
    "    df['review'] = df['review'].apply(remove_punctuation)\n",
    "    df['review'] = df['review'].apply(processing_func)\n",
    "    df['review'] = df['review'].apply(stem_text)\n",
    "    df['review'] = df['review'].apply(remove_duplicates_car)\n",
    "    \n",
    "    df['review'] = df['review'].apply(lambda x: ps.remove_emails(x))\n",
    "    df['review'] = df['review'].apply(lambda x: ps.remove_html_tags(x))\n",
    "    df['review'] = df['review'].apply(lambda x: ps.remove_urls(x))\n",
    "\n",
    "    df['review'] = df['review'].apply(lambda x: ps.remove_special_chars(x))\n",
    "    df['review'] = df['review'].apply(lambda x: ps.remove_accented_chars(x))\n"
   ]
  },
  {
   "cell_type": "code",
   "execution_count": 13,
   "id": "b70dfac5",
   "metadata": {},
   "outputs": [],
   "source": [
    "import seaborn as sns"
   ]
  },
  {
   "cell_type": "code",
   "execution_count": 14,
   "id": "63d630ab",
   "metadata": {},
   "outputs": [
    {
     "data": {
      "image/png": "[encoded data removed]",
      "text/plain": [
       "<Figure size 1152x576 with 4 Axes>"
      ]
     },
     "metadata": {
      "needs_background": "light"
     },
     "output_type": "display_data"
    }
   ],
   "source": [
    "plt.figure(figsize=(16,8))\n",
    "\n",
    "plt.subplot(2,2,1)\n",
    "#sns.barplot(x='sentiment',y=\"word_counts\", data=df)\n",
    "sns.histplot(data=df, x='word_counts', hue=\"sentiment\",kde=True)\n",
    "plt.title('Word counts')\n",
    "\n",
    "plt.subplot(2,2,2)\n",
    "sns.histplot(data=df, x='avg_wordlength', hue=\"sentiment\",kde=True)\n",
    "plt.title('Char counts')\n",
    "\n",
    "plt.subplot(2,2,3)\n",
    "sns.histplot(data=df, x='char_counts', hue=\"sentiment\",kde=True)\n",
    "plt.title('Avg word length')\n",
    "\n",
    "plt.subplot(2,2,4)\n",
    "sns.histplot(data=df, x='stopwords_counts', hue=\"sentiment\",kde=True)\n",
    "plt.title('Stopwords counts')\n",
    "\n",
    "\n",
    "plt.tight_layout()\n",
    "plt.show()"
   ]
  },
  {
   "cell_type": "markdown",
   "id": "509cb880",
   "metadata": {},
   "source": [
    "## MODEL"
   ]
  },
  {
   "cell_type": "code",
   "execution_count": 15,
   "id": "19ae97ea",
   "metadata": {},
   "outputs": [],
   "source": [
    "from sklearn.model_selection import train_test_split\n",
    "from sklearn.feature_extraction.text import TfidfVectorizer\n",
    "\n",
    "from sklearn.svm import LinearSVC\n",
    "from sklearn.pipeline import Pipeline\n",
    "from sklearn.metrics import classification_report, confusion_matrix\n",
    "from sklearn.metrics import accuracy_score, classification_report\n"
   ]
  },
  {
   "cell_type": "code",
   "execution_count": 16,
   "id": "7e2a37a0",
   "metadata": {},
   "outputs": [],
   "source": [
    "X_train,X_test, y_train, y_test = train_test_split(df['review'], df['sentiment'],test_size=0.3,random_state=42, stratify=df['sentiment'])"
   ]
  },
  {
   "cell_type": "code",
   "execution_count": 17,
   "id": "586f472c",
   "metadata": {},
   "outputs": [
    {
     "data": {
      "text/plain": [
       "((35000,), (35000,))"
      ]
     },
     "execution_count": 17,
     "metadata": {},
     "output_type": "execute_result"
    }
   ],
   "source": [
    "X_train.shape, y_train.shape\n"
   ]
  },
  {
   "cell_type": "code",
   "execution_count": 18,
   "id": "6b4c20ed",
   "metadata": {},
   "outputs": [
    {
     "data": {
      "text/plain": [
       "((15000,), (15000,))"
      ]
     },
     "execution_count": 18,
     "metadata": {},
     "output_type": "execute_result"
    }
   ],
   "source": [
    "X_test.shape,y_test.shape"
   ]
  },
  {
   "cell_type": "markdown",
   "id": "0a62787a",
   "metadata": {},
   "source": [
    "###  Trying Different classifiers"
   ]
  },
  {
   "cell_type": "code",
   "execution_count": 19,
   "id": "0fdbe354",
   "metadata": {},
   "outputs": [],
   "source": [
    "# import pandas as pd\n",
    "# from sklearn.model_selection import train_test_split\n",
    "# from sklearn.feature_extraction.text import TfidfVectorizer\n",
    "# from sklearn.pipeline import Pipeline\n",
    "# from sklearn.svm import LinearSVC\n",
    "# from sklearn.naive_bayes import MultinomialNB\n",
    "# from sklearn.ensemble import RandomForestClassifier\n",
    "# from sklearn.metrics import accuracy_score, classification_report\n",
    "# from sklearn.ensemble import GradientBoostingClassifier\n",
    "# from sklearn.neighbors import KNeighborsClassifier\n",
    "# from sklearn.tree import DecisionTreeClassifier\n",
    "# from sklearn.ensemble import AdaBoostClassifier\n",
    "# from sklearn.linear_model import LogisticRegression\n",
    "# from sklearn.svm import SVC\n",
    "# from sklearn.ensemble import GradientBoostingClassifier, RandomForestClassifier, AdaBoostClassifier\n",
    "# from sklearn.naive_bayes import GaussianNB\n",
    "# from sklearn.neighbors import KNeighborsClassifier\n",
    "# from sklearn.neural_network import MLPClassifier\n",
    "# from sklearn.tree import DecisionTreeClassifier\n",
    "# from sklearn.linear_model import LogisticRegression\n",
    "# from xgboost import XGBClassifier\n",
    "# from sklearn.svm import SVC\n",
    "\n",
    "# # Define different classifiers\n",
    "# classifiers = {\n",
    "#     'LinearSVC': LinearSVC(),\n",
    "#     'MultinomialNB': MultinomialNB(),\n",
    "#     'RandomForestClassifier': RandomForestClassifier(),\n",
    "#     'GradientBoostingClassifier': GradientBoostingClassifier(),\n",
    "#     'KNeighborsClassifier': KNeighborsClassifier(),\n",
    "#     'DecisionTreeClassifier': DecisionTreeClassifier(),\n",
    "#     'AdaBoostClassifier': AdaBoostClassifier(),\n",
    "#     'LogisticRegression': LogisticRegression(),\n",
    "#     'NaiveBayes': GaussianNB(),\n",
    "#     'NeuralNetwork': MLPClassifier(),\n",
    "    \n",
    "#     # Add more classifiers as needed\n",
    "# }\n",
    "\n",
    "# # Iterate over classifiers\n",
    "# for clf_name, clf in classifiers.items():\n",
    "#     print(f\"Training and evaluating {clf_name}...\")\n",
    "    \n",
    "#     # Create a pipeline with TF-IDF vectorizer and the current classifier\n",
    "#     model = Pipeline([\n",
    "#         ('tfidf', TfidfVectorizer()),\n",
    "#         ('clf', clf)\n",
    "#     ])\n",
    "    \n",
    "#     # Fit the model on the training data\n",
    "#     model.fit(X_train, y_train)\n",
    "    \n",
    "#     # Make predictions on the test data\n",
    "#     y_pred = model.predict(X_test)\n",
    "    \n",
    "#     # Calculate accuracy and print classification report\n",
    "#     accuracy = accuracy_score(y_test, y_pred)\n",
    "    \n",
    "#     print(f\"Accuracy of {clf_name}: {accuracy}\")"
   ]
  },
  {
   "cell_type": "code",
   "execution_count": 21,
   "id": "12d8078d",
   "metadata": {},
   "outputs": [],
   "source": [
    "from sklearn.svm import SVC\n",
    "clf= Pipeline([('tfidf',TfidfVectorizer()),('clf',SVC())])"
   ]
  },
  {
   "cell_type": "code",
   "execution_count": null,
   "id": "e5574c66",
   "metadata": {},
   "outputs": [],
   "source": [
    "clf.fit(X_train,y_train)"
   ]
  },
  {
   "cell_type": "code",
   "execution_count": null,
   "id": "69e891f4",
   "metadata": {},
   "outputs": [],
   "source": [
    "y_pred = clf.predict(X_test)"
   ]
  },
  {
   "cell_type": "code",
   "execution_count": null,
   "id": "9429786c",
   "metadata": {},
   "outputs": [],
   "source": [
    "print(classification_report(y_test,y_pred))"
   ]
  },
  {
   "cell_type": "code",
   "execution_count": null,
   "id": "3055b340",
   "metadata": {},
   "outputs": [],
   "source": [
    "from mlxtend.plotting import plot_confusion_matrix\n",
    "\n",
    "cm = confusion_matrix(y_test, y_pred)\n",
    "plot_confusion_matrix(cm, class_names=clf.classes_)"
   ]
  },
  {
   "cell_type": "code",
   "execution_count": null,
   "id": "b2548e07",
   "metadata": {},
   "outputs": [],
   "source": [
    "accuracy_score(y_test, y_pred)"
   ]
  },
  {
   "cell_type": "markdown",
   "id": "9849f2fd",
   "metadata": {},
   "source": [
    "### Test Data Preprocessing"
   ]
  },
  {
   "cell_type": "code",
   "execution_count": null,
   "id": "cfa65160",
   "metadata": {},
   "outputs": [],
   "source": [
    "text=\"I can't deny that this film is a cinematic achievement. The acting, direction, and cinematography are all top-notch. However, the story left me emotionally drained, and I'm not sure if that's a good thing or a bad thing.\""
   ]
  },
  {
   "cell_type": "code",
   "execution_count": null,
   "id": "6214f6dd",
   "metadata": {},
   "outputs": [],
   "source": [
    "import pandas as pd\n",
    "import numpy as np\n",
    "import matplotlib.pyplot as plt\n",
    "import preprocess_kgptalkie as ps\n",
    "\n",
    "# Convert text to lowercase\n",
    "\n",
    "# Apply processing function \n",
    "text = processing_func(text)\n",
    "# Apply stemming function \n",
    "text = stem_text(text)\n",
    "\n",
    "text = text.lower()\n",
    "\n",
    "text = ps.remove_emails(text)\n",
    "text = ps.remove_urls(text)\n",
    "\n",
    "text = ps.remove_special_chars(text)\n",
    "text = ps.remove_accented_chars(text)\n",
    "\n",
    "text = ps.remove_stopwords(text)\n",
    "\n",
    "# Remove HTML tags \n",
    "text = ps.remove_html_tags(text)\n",
    "\n",
    "# Remove punctuation \n",
    "text = remove_punctuation(text)\n",
    "\n",
    "# Apply remove duplicates function \n",
    "text = remove_duplicates_car(text)\n",
    "\n",
    "\n",
    "\n"
   ]
  },
  {
   "cell_type": "code",
   "execution_count": null,
   "id": "d08d74dc",
   "metadata": {},
   "outputs": [],
   "source": [
    "stem_text(text)"
   ]
  },
  {
   "cell_type": "code",
   "execution_count": null,
   "id": "fd818cf7",
   "metadata": {},
   "outputs": [],
   "source": [
    "text"
   ]
  },
  {
   "cell_type": "code",
   "execution_count": null,
   "id": "b6a2265a",
   "metadata": {},
   "outputs": [],
   "source": [
    "clf.predict([text])"
   ]
  },
  {
   "cell_type": "code",
   "execution_count": null,
   "id": "c4734dc8",
   "metadata": {},
   "outputs": [],
   "source": [
    "# from pickle import *\n",
    "# f= open(\"sentiment_analysis.pkl\",'wb')\n",
    "# dump(clf,f)\n"
   ]
  },
  {
   "cell_type": "code",
   "execution_count": null,
   "id": "2b6a3099",
   "metadata": {},
   "outputs": [],
   "source": []
  },
  {
   "cell_type": "code",
   "execution_count": null,
   "id": "65f79d68",
   "metadata": {},
   "outputs": [],
   "source": []
  }
 ],
 "metadata": {
  "kernelspec": {
   "display_name": "Python 3 (ipykernel)",
   "language": "python",
   "name": "python3"
  },
  "language_info": {
   "codemirror_mode": {
    "name": "ipython",
    "version": 3
   },
   "file_extension": ".py",
   "mimetype": "text/x-python",
   "name": "python",
   "nbconvert_exporter": "python",
   "pygments_lexer": "ipython3",
   "version": "3.10.1"
  }
 },
 "nbformat": 4,
 "nbformat_minor": 5
}
